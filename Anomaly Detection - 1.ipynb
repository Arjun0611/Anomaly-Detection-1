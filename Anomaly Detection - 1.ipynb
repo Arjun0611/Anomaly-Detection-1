{
 "cells": [
  {
   "cell_type": "code",
   "execution_count": 1,
   "id": "eca645fc-aca5-4ca1-8ec0-9bf3adf4f13a",
   "metadata": {},
   "outputs": [],
   "source": [
    "# Q1.\n",
    "\n",
    "# Anomaly detection involves identifying unusual patterns or observations in data.\n",
    "# It aims to detect outliers, anomalies, or suspicious activities.\n",
    "# The purpose is to uncover errors, fraud, or potential security threats."
   ]
  },
  {
   "cell_type": "code",
   "execution_count": 2,
   "id": "580681a5-4594-4c6d-a597-3574ff9d14db",
   "metadata": {},
   "outputs": [],
   "source": [
    "# Q2.\n",
    "\n",
    "# Identifying anomalies accurately amidst normal data variation.\n",
    "# Dealing with imbalanced datasets where anomalies are rare.\n",
    "# Adapting to evolving data patterns and novel anomalies.\n",
    "# Ensuring interpretability and actionable insights from detected anomalies."
   ]
  },
  {
   "cell_type": "code",
   "execution_count": 3,
   "id": "ba2d4281-5047-41bc-a48e-059f6fadaaad",
   "metadata": {},
   "outputs": [],
   "source": [
    "# Q3.\n",
    "\n",
    "# Unsupervised anomaly detection does not require labeled data for training.\n",
    "# It identifies anomalies based solely on the characteristics of the data.\n",
    "# Supervised anomaly detection relies on labeled data with known anomalies.\n",
    "# It trains a model to distinguish b/w normal and anomalous instances."
   ]
  },
  {
   "cell_type": "code",
   "execution_count": 4,
   "id": "b857d312-00d7-4b91-bcb7-bb2ff10c6eb9",
   "metadata": {},
   "outputs": [],
   "source": [
    "# Q4.\n",
    "\n",
    "# Statistical methods: Utilize statistical properties of data to identify anomalies.\n",
    "# Clustering-based approaches: Detect anomalies by grouping similar data points into clusters and identifying outliers.\n",
    "# Density-based methods: Identify anomalies as data points with low density in the feature space.\n",
    "# Proximity-based techniques: Measure the distance or similarity between data points to detect anomalies."
   ]
  },
  {
   "cell_type": "code",
   "execution_count": 5,
   "id": "4de6a026-abc9-426d-a868-0ab892fead93",
   "metadata": {},
   "outputs": [],
   "source": [
    "# Q5.\n",
    "\n",
    "# Distance-based anomaly detection methods assume that anomalies are far from normal data points in the feature space.\n",
    "# They rely on the concept that anomalies have different characteristics or behaviors that manifest as larger distances from the majority of data points.\n",
    "# These methods often assume that the data distribution is uniform or Gaussian, and anomalies deviate significantly from this distribution."
   ]
  },
  {
   "cell_type": "code",
   "execution_count": 6,
   "id": "319821e5-998c-4a9f-b1cc-02131ebec18c",
   "metadata": {},
   "outputs": [],
   "source": [
    "# Q6.\n",
    "\n",
    "# The LOF algorithm computes anomaly scores based on the local density of data points.\n",
    "# It compares the density of a data point to the density of its neighbours.\n",
    "# Anomalies have significantly lower local densities compared to their neighbors, resulting in higher anomaly scores.\n",
    "# The algorithm calculates the ratio of the local density of a point to the average local density of its neighbors to assign anomaly scores."
   ]
  },
  {
   "cell_type": "code",
   "execution_count": 7,
   "id": "b963a887-e7a8-4154-aaad-de59cf75e006",
   "metadata": {},
   "outputs": [],
   "source": [
    "# Q7.\n",
    "\n",
    "# Key parameters of the Isolation Forest algorithm include:\n",
    "    # Number of trees in the forest.\n",
    "    # Maximum depth of each tree.\n",
    "    # Subsample size for building each tree."
   ]
  },
  {
   "cell_type": "code",
   "execution_count": 1,
   "id": "675e5618-ee39-4df7-8208-3a7b5781b252",
   "metadata": {},
   "outputs": [
    {
     "name": "stdout",
     "output_type": "stream",
     "text": [
      "Anomaly Score: 0.8\n"
     ]
    }
   ],
   "source": [
    "# Q8.\n",
    "\n",
    "def anomaly_score(num_neighbors_same_class, k):\n",
    "    num_neighbors_diff_class = k - num_neighbors_same_class\n",
    "    return num_neighbors_diff_class / k\n",
    "\n",
    "num_neighbors_same_class = 2\n",
    "\n",
    "k = 10\n",
    "\n",
    "score = anomaly_score(num_neighbors_same_class, k)\n",
    "print(\"Anomaly Score:\", score)"
   ]
  },
  {
   "cell_type": "code",
   "execution_count": 2,
   "id": "d68a9461-eafa-44a2-b2aa-e7f3f9098d46",
   "metadata": {},
   "outputs": [
    {
     "name": "stdout",
     "output_type": "stream",
     "text": [
      "Anomaly Score: 0.7957910189666776\n"
     ]
    }
   ],
   "source": [
    "# Q9.\n",
    "\n",
    "import numpy as np\n",
    "\n",
    "T = 100 # Number of trees\n",
    "n =3000 # Number of datapoints\n",
    "avg_path_length = 5.0\n",
    "\n",
    "# Harmonic number approximation\n",
    "Hn = np.log(n - 1) + 0.58\n",
    "\n",
    "# Normalization factor\n",
    "c_n = 2 * Hn - (2 * (n - 1) / n)\n",
    "\n",
    "# Anomaly score calcution\n",
    "anomaly_score = 2 ** (-avg_path_length / c_n)\n",
    "print(\"Anomaly Score:\", anomaly_score)"
   ]
  },
  {
   "cell_type": "code",
   "execution_count": null,
   "id": "4ffb3147-938d-469e-be98-5036501859b8",
   "metadata": {},
   "outputs": [],
   "source": []
  }
 ],
 "metadata": {
  "kernelspec": {
   "display_name": "Python 3 (ipykernel)",
   "language": "python",
   "name": "python3"
  },
  "language_info": {
   "codemirror_mode": {
    "name": "ipython",
    "version": 3
   },
   "file_extension": ".py",
   "mimetype": "text/x-python",
   "name": "python",
   "nbconvert_exporter": "python",
   "pygments_lexer": "ipython3",
   "version": "3.10.8"
  }
 },
 "nbformat": 4,
 "nbformat_minor": 5
}
